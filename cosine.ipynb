{
 "cells": [
  {
   "cell_type": "code",
   "execution_count": 2,
   "id": "d205d25c-e612-4540-84e1-cb6ae3c74493",
   "metadata": {},
   "outputs": [],
   "source": [
    "import numpy as np # linear algebra\n",
    "import pandas as pd # data processing, CSV file I/O (e.g. pd.read_csv)"
   ]
  },
  {
   "cell_type": "code",
   "execution_count": 3,
   "id": "766ea4b7-81dd-4979-a2fd-40a87c9d2744",
   "metadata": {},
   "outputs": [],
   "source": [
    "import matplotlib.pyplot as plt\n",
    "import seaborn as sns\n",
    "import nltk\n",
    "from nltk.tokenize import word_tokenize \n",
    "\n",
    "plt.rcParams['figure.figsize'] = (13, 7)"
   ]
  },
  {
   "cell_type": "code",
   "execution_count": 4,
   "id": "26239a51-73e9-478d-a732-6ad2addd82b1",
   "metadata": {},
   "outputs": [
    {
     "data": {
      "text/html": [
       "<div>\n",
       "<style scoped>\n",
       "    .dataframe tbody tr th:only-of-type {\n",
       "        vertical-align: middle;\n",
       "    }\n",
       "\n",
       "    .dataframe tbody tr th {\n",
       "        vertical-align: top;\n",
       "    }\n",
       "\n",
       "    .dataframe thead th {\n",
       "        text-align: right;\n",
       "    }\n",
       "</style>\n",
       "<table border=\"1\" class=\"dataframe\">\n",
       "  <thead>\n",
       "    <tr style=\"text-align: right;\">\n",
       "      <th></th>\n",
       "      <th>Name</th>\n",
       "      <th>Skill</th>\n",
       "      <th>Education</th>\n",
       "      <th>Experience</th>\n",
       "    </tr>\n",
       "  </thead>\n",
       "  <tbody>\n",
       "    <tr>\n",
       "      <th>0</th>\n",
       "      <td>Anthony Miller</td>\n",
       "      <td>Web Development</td>\n",
       "      <td>Bachelor's in Computer Science</td>\n",
       "      <td>5 years</td>\n",
       "    </tr>\n",
       "    <tr>\n",
       "      <th>1</th>\n",
       "      <td>Jeffrey Jordan</td>\n",
       "      <td>Finance</td>\n",
       "      <td>Bachelor's in Business Administration</td>\n",
       "      <td>19 years</td>\n",
       "    </tr>\n",
       "    <tr>\n",
       "      <th>2</th>\n",
       "      <td>Brian Jennings</td>\n",
       "      <td>Digital Marketing</td>\n",
       "      <td>Bachelor's in Marketing</td>\n",
       "      <td>12 years</td>\n",
       "    </tr>\n",
       "    <tr>\n",
       "      <th>3</th>\n",
       "      <td>Michael Herrera</td>\n",
       "      <td>Digital Marketing</td>\n",
       "      <td>Bachelor's in Marketing</td>\n",
       "      <td>13 years</td>\n",
       "    </tr>\n",
       "    <tr>\n",
       "      <th>4</th>\n",
       "      <td>Antonio Garcia</td>\n",
       "      <td>Finance</td>\n",
       "      <td>Bachelor's in Business Administration</td>\n",
       "      <td>19 years</td>\n",
       "    </tr>\n",
       "  </tbody>\n",
       "</table>\n",
       "</div>"
      ],
      "text/plain": [
       "              Name              Skill                              Education  \\\n",
       "0   Anthony Miller    Web Development         Bachelor's in Computer Science   \n",
       "1   Jeffrey Jordan            Finance  Bachelor's in Business Administration   \n",
       "2   Brian Jennings  Digital Marketing                Bachelor's in Marketing   \n",
       "3  Michael Herrera  Digital Marketing                Bachelor's in Marketing   \n",
       "4   Antonio Garcia            Finance  Bachelor's in Business Administration   \n",
       "\n",
       "  Experience  \n",
       "0    5 years  \n",
       "1   19 years  \n",
       "2   12 years  \n",
       "3   13 years  \n",
       "4   19 years  "
      ]
     },
     "execution_count": 4,
     "metadata": {},
     "output_type": "execute_result"
    }
   ],
   "source": [
    "\n",
    "\n",
    "#take a look on the dataset\n",
    "df = pd.read_csv(\"random_data.csv\")\n",
    "df.head(5)\n",
    "\n"
   ]
  },
  {
   "cell_type": "code",
   "execution_count": 5,
   "id": "862cb740-2892-4369-8279-c50c474b5702",
   "metadata": {},
   "outputs": [
    {
     "name": "stdout",
     "output_type": "stream",
     "text": [
      "<class 'pandas.core.frame.DataFrame'>\n",
      "RangeIndex: 12001 entries, 0 to 12000\n",
      "Data columns (total 4 columns):\n",
      " #   Column      Non-Null Count  Dtype \n",
      "---  ------      --------------  ----- \n",
      " 0   Name        12001 non-null  object\n",
      " 1   Skill       12001 non-null  object\n",
      " 2   Education   12001 non-null  object\n",
      " 3   Experience  12001 non-null  object\n",
      "dtypes: object(4)\n",
      "memory usage: 375.2+ KB\n"
     ]
    }
   ],
   "source": [
    "\n",
    "\n",
    "#showing info for each featrue\n",
    "df.info()\n",
    "\n"
   ]
  },
  {
   "cell_type": "code",
   "execution_count": 6,
   "id": "99c0a46c-030e-44f2-aa08-f12a2f4e54d6",
   "metadata": {},
   "outputs": [
    {
     "data": {
      "text/html": [
       "<div>\n",
       "<style scoped>\n",
       "    .dataframe tbody tr th:only-of-type {\n",
       "        vertical-align: middle;\n",
       "    }\n",
       "\n",
       "    .dataframe tbody tr th {\n",
       "        vertical-align: top;\n",
       "    }\n",
       "\n",
       "    .dataframe thead th {\n",
       "        text-align: right;\n",
       "    }\n",
       "</style>\n",
       "<table border=\"1\" class=\"dataframe\">\n",
       "  <thead>\n",
       "    <tr style=\"text-align: right;\">\n",
       "      <th></th>\n",
       "      <th>Name</th>\n",
       "      <th>Skill</th>\n",
       "      <th>Education</th>\n",
       "      <th>Experience</th>\n",
       "    </tr>\n",
       "  </thead>\n",
       "  <tbody>\n",
       "    <tr>\n",
       "      <th>0</th>\n",
       "      <td>Anthony Miller</td>\n",
       "      <td>Web Development</td>\n",
       "      <td>Bachelor's in Computer Science</td>\n",
       "      <td>5 years</td>\n",
       "    </tr>\n",
       "  </tbody>\n",
       "</table>\n",
       "</div>"
      ],
      "text/plain": [
       "             Name            Skill                       Education Experience\n",
       "0  Anthony Miller  Web Development  Bachelor's in Computer Science    5 years"
      ]
     },
     "execution_count": 6,
     "metadata": {},
     "output_type": "execute_result"
    }
   ],
   "source": [
    "\n",
    "\n",
    "df.head(1)\n",
    "\n"
   ]
  },
  {
   "cell_type": "code",
   "execution_count": 7,
   "id": "4f883b17-3cb6-467b-a789-845e602c5314",
   "metadata": {
    "scrolled": true
   },
   "outputs": [
    {
     "data": {
      "text/plain": [
       "Name          0\n",
       "Skill         0\n",
       "Education     0\n",
       "Experience    0\n",
       "dtype: int64"
      ]
     },
     "execution_count": 7,
     "metadata": {},
     "output_type": "execute_result"
    }
   ],
   "source": [
    "\n",
    "\n",
    "#now checking the NaN values\n",
    "df.isnull().sum()\n",
    "\n"
   ]
  },
  {
   "cell_type": "code",
   "execution_count": 12,
   "id": "4d2942d3-7dab-47b4-879b-725f51c509ce",
   "metadata": {},
   "outputs": [],
   "source": [
    "df['Skill'] = df['Skill'].fillna(\"Unknown\")\n",
    "df['Education'] = df['Education'].fillna(\"Unknown\")\n",
    "df['Experience'] = df['Experience'].fillna(\"Unknown\")\n",
    "df = df.reset_index( drop=True)\n"
   ]
  },
  {
   "cell_type": "code",
   "execution_count": 13,
   "id": "17f27bff-fd32-4bb9-9b42-1d806c8d5535",
   "metadata": {},
   "outputs": [
    {
     "data": {
      "text/html": [
       "<div>\n",
       "<style scoped>\n",
       "    .dataframe tbody tr th:only-of-type {\n",
       "        vertical-align: middle;\n",
       "    }\n",
       "\n",
       "    .dataframe tbody tr th {\n",
       "        vertical-align: top;\n",
       "    }\n",
       "\n",
       "    .dataframe thead th {\n",
       "        text-align: right;\n",
       "    }\n",
       "</style>\n",
       "<table border=\"1\" class=\"dataframe\">\n",
       "  <thead>\n",
       "    <tr style=\"text-align: right;\">\n",
       "      <th></th>\n",
       "      <th>Name</th>\n",
       "      <th>Skill</th>\n",
       "      <th>Education</th>\n",
       "      <th>Experience</th>\n",
       "    </tr>\n",
       "  </thead>\n",
       "  <tbody>\n",
       "    <tr>\n",
       "      <th>0</th>\n",
       "      <td>Anthony Miller</td>\n",
       "      <td>Web Development</td>\n",
       "      <td>Bachelor's in Computer Science</td>\n",
       "      <td>5 years</td>\n",
       "    </tr>\n",
       "    <tr>\n",
       "      <th>1</th>\n",
       "      <td>Jeffrey Jordan</td>\n",
       "      <td>Finance</td>\n",
       "      <td>Bachelor's in Business Administration</td>\n",
       "      <td>19 years</td>\n",
       "    </tr>\n",
       "    <tr>\n",
       "      <th>2</th>\n",
       "      <td>Brian Jennings</td>\n",
       "      <td>Digital Marketing</td>\n",
       "      <td>Bachelor's in Marketing</td>\n",
       "      <td>12 years</td>\n",
       "    </tr>\n",
       "    <tr>\n",
       "      <th>3</th>\n",
       "      <td>Michael Herrera</td>\n",
       "      <td>Digital Marketing</td>\n",
       "      <td>Bachelor's in Marketing</td>\n",
       "      <td>13 years</td>\n",
       "    </tr>\n",
       "    <tr>\n",
       "      <th>4</th>\n",
       "      <td>Antonio Garcia</td>\n",
       "      <td>Finance</td>\n",
       "      <td>Bachelor's in Business Administration</td>\n",
       "      <td>19 years</td>\n",
       "    </tr>\n",
       "  </tbody>\n",
       "</table>\n",
       "</div>"
      ],
      "text/plain": [
       "              Name              Skill                              Education  \\\n",
       "0   Anthony Miller    Web Development         Bachelor's in Computer Science   \n",
       "1   Jeffrey Jordan            Finance  Bachelor's in Business Administration   \n",
       "2   Brian Jennings  Digital Marketing                Bachelor's in Marketing   \n",
       "3  Michael Herrera  Digital Marketing                Bachelor's in Marketing   \n",
       "4   Antonio Garcia            Finance  Bachelor's in Business Administration   \n",
       "\n",
       "  Experience  \n",
       "0    5 years  \n",
       "1   19 years  \n",
       "2   12 years  \n",
       "3   13 years  \n",
       "4   19 years  "
      ]
     },
     "execution_count": 13,
     "metadata": {},
     "output_type": "execute_result"
    }
   ],
   "source": [
    "\n",
    "\n",
    "df.head(5)\n",
    "\n"
   ]
  },
  {
   "cell_type": "code",
   "execution_count": 14,
   "id": "a0065284-2160-433a-9ab7-e6e50810f1c7",
   "metadata": {},
   "outputs": [],
   "source": [
    "overall_infos = []\n",
    "for i in range(0, df.shape[0]):\n",
    "    overall_infos.append(df['Name'][i]+' '+df['Skill'][i]+' '+df['Education'][i]+' '+df['Experience'][i])\n",
    "df['overall_infos'] = overall_infos"
   ]
  },
  {
   "cell_type": "code",
   "execution_count": 15,
   "id": "535a52e3-56e6-4553-a378-c4c1b0fd0b04",
   "metadata": {},
   "outputs": [
    {
     "data": {
      "text/html": [
       "<div>\n",
       "<style scoped>\n",
       "    .dataframe tbody tr th:only-of-type {\n",
       "        vertical-align: middle;\n",
       "    }\n",
       "\n",
       "    .dataframe tbody tr th {\n",
       "        vertical-align: top;\n",
       "    }\n",
       "\n",
       "    .dataframe thead th {\n",
       "        text-align: right;\n",
       "    }\n",
       "</style>\n",
       "<table border=\"1\" class=\"dataframe\">\n",
       "  <thead>\n",
       "    <tr style=\"text-align: right;\">\n",
       "      <th></th>\n",
       "      <th>overall_infos</th>\n",
       "    </tr>\n",
       "  </thead>\n",
       "  <tbody>\n",
       "    <tr>\n",
       "      <th>0</th>\n",
       "      <td>Anthony Miller Web Development Bachelor's in C...</td>\n",
       "    </tr>\n",
       "    <tr>\n",
       "      <th>1</th>\n",
       "      <td>Jeffrey Jordan Finance Bachelor's in Business ...</td>\n",
       "    </tr>\n",
       "  </tbody>\n",
       "</table>\n",
       "</div>"
      ],
      "text/plain": [
       "                                       overall_infos\n",
       "0  Anthony Miller Web Development Bachelor's in C...\n",
       "1  Jeffrey Jordan Finance Bachelor's in Business ..."
      ]
     },
     "execution_count": 15,
     "metadata": {},
     "output_type": "execute_result"
    }
   ],
   "source": [
    "df_new = df[['overall_infos']]\n",
    "df_new.head(2)"
   ]
  },
  {
   "cell_type": "code",
   "execution_count": 16,
   "id": "463143af-db7a-4316-9eda-a4a72913df27",
   "metadata": {},
   "outputs": [],
   "source": [
    "#Stopwords help us to get rid of unwanted words like: a, an, are, is, ...\n",
    "from nltk.corpus import stopwords\n",
    "stop = stopwords.words('english')"
   ]
  },
  {
   "cell_type": "code",
   "execution_count": 17,
   "id": "16ee169d-599b-47f9-abbb-c91c526a702d",
   "metadata": {},
   "outputs": [],
   "source": [
    "def text_preprocessing(column):\n",
    "    #make all words with lower letters\n",
    "    column = column.str.lower()\n",
    "    #getting rid of any punctution\n",
    "    column = column.str.replace('http\\S+|www.\\S+|@|%|:|,|', '', case=False)\n",
    "    #spliting each sentence to words to apply previous funtions on them \n",
    "    word_tokens = column.str.split()\n",
    "    keywords = word_tokens.apply(lambda x: [item for item in x if item not in stop])\n",
    "    #assemble words of each sentence again and assign them in new column\n",
    "    for i in range(len(keywords)):\n",
    "        keywords[i] = \" \".join(keywords[i])\n",
    "        column = keywords\n",
    "\n",
    "    return column"
   ]
  },
  {
   "cell_type": "code",
   "execution_count": 18,
   "id": "9bbfdbcb-164d-4ad0-b3a7-d96b3f8801b6",
   "metadata": {},
   "outputs": [
    {
     "name": "stderr",
     "output_type": "stream",
     "text": [
      "/tmp/ipykernel_4312/3345913491.py:1: SettingWithCopyWarning: \n",
      "A value is trying to be set on a copy of a slice from a DataFrame.\n",
      "Try using .loc[row_indexer,col_indexer] = value instead\n",
      "\n",
      "See the caveats in the documentation: https://pandas.pydata.org/pandas-docs/stable/user_guide/indexing.html#returning-a-view-versus-a-copy\n",
      "  df_new.loc[:, 'cleaned_infos'] = text_preprocessing(df_new['overall_infos'])\n"
     ]
    }
   ],
   "source": [
    "\n",
    "\n",
    "df_new.loc[:, 'cleaned_infos'] = text_preprocessing(df_new['overall_infos'])\n",
    "\n",
    "\n"
   ]
  },
  {
   "cell_type": "code",
   "execution_count": 19,
   "id": "eb6cd85c-aaf2-4673-98ee-d929fbb8c3f7",
   "metadata": {},
   "outputs": [
    {
     "data": {
      "text/plain": [
       "0        Anthony Miller Web Development Bachelor's in C...\n",
       "1        Jeffrey Jordan Finance Bachelor's in Business ...\n",
       "2        Brian Jennings Digital Marketing Bachelor's in...\n",
       "3        Michael Herrera Digital Marketing Bachelor's i...\n",
       "4        Antonio Garcia Finance Bachelor's in Business ...\n",
       "                               ...                        \n",
       "11996    April Harrison Teaching Bachelor's in Educatio...\n",
       "11997    David Tran DDS Digital Marketing Bachelor's in...\n",
       "11998    Bradley Lamb Web Development Bachelor's in Com...\n",
       "11999    Kaitlin Gomez MD Graphic Design Bachelor's in ...\n",
       "12000    Christopher Byrd DDS Web Development Bachelor'...\n",
       "Name: overall_infos, Length: 12001, dtype: object"
      ]
     },
     "execution_count": 19,
     "metadata": {},
     "output_type": "execute_result"
    }
   ],
   "source": [
    "\n",
    "\n",
    "df['overall_infos']\n",
    "\n"
   ]
  },
  {
   "cell_type": "code",
   "execution_count": 20,
   "id": "f103f1a8-5f4f-411c-919b-fa72aaa4ef18",
   "metadata": {},
   "outputs": [
    {
     "data": {
      "text/plain": [
       "0        anthony miller web development bachelor's comp...\n",
       "1        jeffrey jordan finance bachelor's business adm...\n",
       "2        brian jennings digital marketing bachelor's ma...\n",
       "3        michael herrera digital marketing bachelor's m...\n",
       "4        antonio garcia finance bachelor's business adm...\n",
       "                               ...                        \n",
       "11996    april harrison teaching bachelor's education 6...\n",
       "11997    david tran dds digital marketing bachelor's ma...\n",
       "11998    bradley lamb web development bachelor's comput...\n",
       "11999    kaitlin gomez md graphic design bachelor's des...\n",
       "12000    christopher byrd dds web development bachelor'...\n",
       "Name: cleaned_infos, Length: 12001, dtype: object"
      ]
     },
     "execution_count": 20,
     "metadata": {},
     "output_type": "execute_result"
    }
   ],
   "source": [
    "df_new['cleaned_infos']"
   ]
  },
  {
   "cell_type": "code",
   "execution_count": 21,
   "id": "40dd74a7-1ad1-4fb9-af13-0e9237726abe",
   "metadata": {},
   "outputs": [],
   "source": [
    "from sklearn.feature_extraction.text import CountVectorizer\n",
    "from sklearn.metrics.pairwise import cosine_similarity\n",
    "\n",
    "CV = CountVectorizer()\n",
    "converted_metrix = CV.fit_transform(df_new['cleaned_infos'])"
   ]
  },
  {
   "cell_type": "code",
   "execution_count": 22,
   "id": "fbca6880-e58c-485c-8188-7c2511165fd0",
   "metadata": {},
   "outputs": [],
   "source": [
    "\n",
    "\n",
    "cosine_similarity = cosine_similarity(converted_metrix)\n",
    "\n"
   ]
  },
  {
   "cell_type": "code",
   "execution_count": 23,
   "id": "e30ba8e9-2023-4fa6-b367-fd2bcfb57bb0",
   "metadata": {},
   "outputs": [
    {
     "data": {
      "text/plain": [
       "array([[1.        , 0.25      , 0.2236068 , ..., 0.70710678, 0.2236068 ,\n",
       "        0.70710678],\n",
       "       [0.25      , 1.        , 0.2236068 , ..., 0.23570226, 0.2236068 ,\n",
       "        0.23570226],\n",
       "       [0.2236068 , 0.2236068 , 1.        , ..., 0.21081851, 0.2       ,\n",
       "        0.21081851],\n",
       "       ...,\n",
       "       [0.70710678, 0.23570226, 0.21081851, ..., 1.        , 0.21081851,\n",
       "        0.66666667],\n",
       "       [0.2236068 , 0.2236068 , 0.2       , ..., 0.21081851, 1.        ,\n",
       "        0.21081851],\n",
       "       [0.70710678, 0.23570226, 0.21081851, ..., 0.66666667, 0.21081851,\n",
       "        1.        ]])"
      ]
     },
     "execution_count": 23,
     "metadata": {},
     "output_type": "execute_result"
    }
   ],
   "source": [
    "cosine_similarity"
   ]
  },
  {
   "cell_type": "code",
   "execution_count": 24,
   "id": "1334f62e-7033-49fe-942b-379558074a7c",
   "metadata": {},
   "outputs": [
    {
     "data": {
      "text/html": [
       "<div>\n",
       "<style scoped>\n",
       "    .dataframe tbody tr th:only-of-type {\n",
       "        vertical-align: middle;\n",
       "    }\n",
       "\n",
       "    .dataframe tbody tr th {\n",
       "        vertical-align: top;\n",
       "    }\n",
       "\n",
       "    .dataframe thead th {\n",
       "        text-align: right;\n",
       "    }\n",
       "</style>\n",
       "<table border=\"1\" class=\"dataframe\">\n",
       "  <thead>\n",
       "    <tr style=\"text-align: right;\">\n",
       "      <th></th>\n",
       "      <th>Name</th>\n",
       "      <th>Skill</th>\n",
       "      <th>Education</th>\n",
       "      <th>Experience</th>\n",
       "      <th>overall_infos</th>\n",
       "    </tr>\n",
       "  </thead>\n",
       "  <tbody>\n",
       "    <tr>\n",
       "      <th>1</th>\n",
       "      <td>Jeffrey Jordan</td>\n",
       "      <td>Finance</td>\n",
       "      <td>Bachelor's in Business Administration</td>\n",
       "      <td>19 years</td>\n",
       "      <td>Jeffrey Jordan Finance Bachelor's in Business ...</td>\n",
       "    </tr>\n",
       "    <tr>\n",
       "      <th>4</th>\n",
       "      <td>Antonio Garcia</td>\n",
       "      <td>Finance</td>\n",
       "      <td>Bachelor's in Business Administration</td>\n",
       "      <td>19 years</td>\n",
       "      <td>Antonio Garcia Finance Bachelor's in Business ...</td>\n",
       "    </tr>\n",
       "    <tr>\n",
       "      <th>23</th>\n",
       "      <td>Kathleen Johnson</td>\n",
       "      <td>Finance</td>\n",
       "      <td>Bachelor's in Business Administration</td>\n",
       "      <td>12 years</td>\n",
       "      <td>Kathleen Johnson Finance Bachelor's in Busines...</td>\n",
       "    </tr>\n",
       "    <tr>\n",
       "      <th>36</th>\n",
       "      <td>Jennifer Thomas</td>\n",
       "      <td>Finance</td>\n",
       "      <td>Bachelor's in Business Administration</td>\n",
       "      <td>2 years</td>\n",
       "      <td>Jennifer Thomas Finance Bachelor's in Business...</td>\n",
       "    </tr>\n",
       "    <tr>\n",
       "      <th>37</th>\n",
       "      <td>Jorge Lawrence PhD</td>\n",
       "      <td>Finance</td>\n",
       "      <td>Bachelor's in Business Administration</td>\n",
       "      <td>12 years</td>\n",
       "      <td>Jorge Lawrence PhD Finance Bachelor's in Busin...</td>\n",
       "    </tr>\n",
       "    <tr>\n",
       "      <th>...</th>\n",
       "      <td>...</td>\n",
       "      <td>...</td>\n",
       "      <td>...</td>\n",
       "      <td>...</td>\n",
       "      <td>...</td>\n",
       "    </tr>\n",
       "    <tr>\n",
       "      <th>11962</th>\n",
       "      <td>Paul Walker</td>\n",
       "      <td>Finance</td>\n",
       "      <td>Bachelor's in Business Administration</td>\n",
       "      <td>2 years</td>\n",
       "      <td>Paul Walker Finance Bachelor's in Business Adm...</td>\n",
       "    </tr>\n",
       "    <tr>\n",
       "      <th>11963</th>\n",
       "      <td>Eric Stewart</td>\n",
       "      <td>Finance</td>\n",
       "      <td>Bachelor's in Business Administration</td>\n",
       "      <td>17 years</td>\n",
       "      <td>Eric Stewart Finance Bachelor's in Business Ad...</td>\n",
       "    </tr>\n",
       "    <tr>\n",
       "      <th>11966</th>\n",
       "      <td>Vicki Wright</td>\n",
       "      <td>Finance</td>\n",
       "      <td>Bachelor's in Business Administration</td>\n",
       "      <td>10 years</td>\n",
       "      <td>Vicki Wright Finance Bachelor's in Business Ad...</td>\n",
       "    </tr>\n",
       "    <tr>\n",
       "      <th>11985</th>\n",
       "      <td>Rachel Nielsen</td>\n",
       "      <td>Finance</td>\n",
       "      <td>Bachelor's in Business Administration</td>\n",
       "      <td>1 years</td>\n",
       "      <td>Rachel Nielsen Finance Bachelor's in Business ...</td>\n",
       "    </tr>\n",
       "    <tr>\n",
       "      <th>11986</th>\n",
       "      <td>Allison Vang</td>\n",
       "      <td>Finance</td>\n",
       "      <td>Bachelor's in Business Administration</td>\n",
       "      <td>6 years</td>\n",
       "      <td>Allison Vang Finance Bachelor's in Business Ad...</td>\n",
       "    </tr>\n",
       "  </tbody>\n",
       "</table>\n",
       "<p>1225 rows × 5 columns</p>\n",
       "</div>"
      ],
      "text/plain": [
       "                     Name    Skill                              Education  \\\n",
       "1          Jeffrey Jordan  Finance  Bachelor's in Business Administration   \n",
       "4          Antonio Garcia  Finance  Bachelor's in Business Administration   \n",
       "23       Kathleen Johnson  Finance  Bachelor's in Business Administration   \n",
       "36        Jennifer Thomas  Finance  Bachelor's in Business Administration   \n",
       "37     Jorge Lawrence PhD  Finance  Bachelor's in Business Administration   \n",
       "...                   ...      ...                                    ...   \n",
       "11962         Paul Walker  Finance  Bachelor's in Business Administration   \n",
       "11963        Eric Stewart  Finance  Bachelor's in Business Administration   \n",
       "11966        Vicki Wright  Finance  Bachelor's in Business Administration   \n",
       "11985      Rachel Nielsen  Finance  Bachelor's in Business Administration   \n",
       "11986        Allison Vang  Finance  Bachelor's in Business Administration   \n",
       "\n",
       "      Experience                                      overall_infos  \n",
       "1       19 years  Jeffrey Jordan Finance Bachelor's in Business ...  \n",
       "4       19 years  Antonio Garcia Finance Bachelor's in Business ...  \n",
       "23      12 years  Kathleen Johnson Finance Bachelor's in Busines...  \n",
       "36       2 years  Jennifer Thomas Finance Bachelor's in Business...  \n",
       "37      12 years  Jorge Lawrence PhD Finance Bachelor's in Busin...  \n",
       "...          ...                                                ...  \n",
       "11962    2 years  Paul Walker Finance Bachelor's in Business Adm...  \n",
       "11963   17 years  Eric Stewart Finance Bachelor's in Business Ad...  \n",
       "11966   10 years  Vicki Wright Finance Bachelor's in Business Ad...  \n",
       "11985    1 years  Rachel Nielsen Finance Bachelor's in Business ...  \n",
       "11986    6 years  Allison Vang Finance Bachelor's in Business Ad...  \n",
       "\n",
       "[1225 rows x 5 columns]"
      ]
     },
     "execution_count": 24,
     "metadata": {},
     "output_type": "execute_result"
    }
   ],
   "source": [
    "#finding the correct name of a movie\n",
    "df[df['Skill'].str.contains('Finance')]"
   ]
  },
  {
   "cell_type": "code",
   "execution_count": 25,
   "id": "daada10e-b27c-483c-adeb-8f47200f926a",
   "metadata": {},
   "outputs": [
    {
     "name": "stdout",
     "output_type": "stream",
     "text": [
      "Requirement already satisfied: torch in /home/nalugya-vanessa/anaconda3/lib/python3.11/site-packages (2.1.2)\n",
      "Requirement already satisfied: filelock in /home/nalugya-vanessa/anaconda3/lib/python3.11/site-packages (from torch) (3.13.1)\n",
      "Requirement already satisfied: typing-extensions in /home/nalugya-vanessa/anaconda3/lib/python3.11/site-packages (from torch) (4.9.0)\n",
      "Requirement already satisfied: sympy in /home/nalugya-vanessa/anaconda3/lib/python3.11/site-packages (from torch) (1.12)\n",
      "Requirement already satisfied: networkx in /home/nalugya-vanessa/anaconda3/lib/python3.11/site-packages (from torch) (3.1)\n",
      "Requirement already satisfied: jinja2 in /home/nalugya-vanessa/anaconda3/lib/python3.11/site-packages (from torch) (3.1.2)\n",
      "Requirement already satisfied: fsspec in /home/nalugya-vanessa/anaconda3/lib/python3.11/site-packages (from torch) (2023.10.0)\n",
      "Requirement already satisfied: nvidia-cuda-nvrtc-cu12==12.1.105 in /home/nalugya-vanessa/anaconda3/lib/python3.11/site-packages (from torch) (12.1.105)\n",
      "Requirement already satisfied: nvidia-cuda-runtime-cu12==12.1.105 in /home/nalugya-vanessa/anaconda3/lib/python3.11/site-packages (from torch) (12.1.105)\n",
      "Requirement already satisfied: nvidia-cuda-cupti-cu12==12.1.105 in /home/nalugya-vanessa/anaconda3/lib/python3.11/site-packages (from torch) (12.1.105)\n",
      "Requirement already satisfied: nvidia-cudnn-cu12==8.9.2.26 in /home/nalugya-vanessa/anaconda3/lib/python3.11/site-packages (from torch) (8.9.2.26)\n",
      "Requirement already satisfied: nvidia-cublas-cu12==12.1.3.1 in /home/nalugya-vanessa/anaconda3/lib/python3.11/site-packages (from torch) (12.1.3.1)\n",
      "Requirement already satisfied: nvidia-cufft-cu12==11.0.2.54 in /home/nalugya-vanessa/anaconda3/lib/python3.11/site-packages (from torch) (11.0.2.54)\n",
      "Requirement already satisfied: nvidia-curand-cu12==10.3.2.106 in /home/nalugya-vanessa/anaconda3/lib/python3.11/site-packages (from torch) (10.3.2.106)\n",
      "Requirement already satisfied: nvidia-cusolver-cu12==11.4.5.107 in /home/nalugya-vanessa/anaconda3/lib/python3.11/site-packages (from torch) (11.4.5.107)\n",
      "Requirement already satisfied: nvidia-cusparse-cu12==12.1.0.106 in /home/nalugya-vanessa/anaconda3/lib/python3.11/site-packages (from torch) (12.1.0.106)\n",
      "Requirement already satisfied: nvidia-nccl-cu12==2.18.1 in /home/nalugya-vanessa/anaconda3/lib/python3.11/site-packages (from torch) (2.18.1)\n",
      "Requirement already satisfied: nvidia-nvtx-cu12==12.1.105 in /home/nalugya-vanessa/anaconda3/lib/python3.11/site-packages (from torch) (12.1.105)\n",
      "Requirement already satisfied: triton==2.1.0 in /home/nalugya-vanessa/anaconda3/lib/python3.11/site-packages (from torch) (2.1.0)\n",
      "Requirement already satisfied: nvidia-nvjitlink-cu12 in /home/nalugya-vanessa/anaconda3/lib/python3.11/site-packages (from nvidia-cusolver-cu12==11.4.5.107->torch) (12.3.101)\n",
      "Requirement already satisfied: MarkupSafe>=2.0 in /home/nalugya-vanessa/anaconda3/lib/python3.11/site-packages (from jinja2->torch) (2.1.3)\n",
      "Requirement already satisfied: mpmath>=0.19 in /home/nalugya-vanessa/anaconda3/lib/python3.11/site-packages (from sympy->torch) (1.3.0)\n"
     ]
    }
   ],
   "source": [
    "!pip install torch\n",
    "\n",
    "import torch\n",
    "from datasets import load_dataset\n",
    "from transformers import DistilBertTokenizer, DistilBertModel\n",
    "from sklearn.metrics.pairwise import cosine_similarity"
   ]
  },
  {
   "cell_type": "code",
   "execution_count": 35,
   "id": "db703e7c-df0b-42fa-83fc-17bec41d9e75",
   "metadata": {},
   "outputs": [
    {
     "name": "stdout",
     "output_type": "stream",
     "text": [
      "Original:\n",
      "\n",
      "Duties and Responsibilities\n",
      "\n",
      "Keep custody of all Board and Senior Management papers, documents and minutes.\n",
      "Maintain a diary of meetings for Board, Committees and Senior Management.\n",
      "Take minutes of Board meetings.\n",
      "Prepare attendance registers of Board meetings and allowance requisition and reimbursement for payments to Board.\n",
      "Prepare schedules of information that the Board has requested from management.\n",
      "Prepare schedules and information management needs to submit to Board for consideration.\n",
      "Manage all correspondence and records to and from the Executive Director.\n",
      "Review documentation to Executive Director and route these to their respective department heads for action.\n",
      "Prepare schedules of action points that require the attention of the Executive Director.\n",
      "Read reports/proposals to Executive Director that require her input, and provide a summary of key issues that require the attention of the Executive Director.\n",
      "Make travel arrangements for the Executive Director and Board members;\n",
      "Maintain a diary of national and international events that require the participation of the Executive Director and Board Members.\n",
      "Assist in the preparation, monitoring and managing costs related to Board budget and the Executive Director’s office.\n",
      "Make travel arrangements for the strategic partners visiting the organization’s field operations through the Executive Director’s office.\n",
      "Qualifications, Skills, and Experience\n",
      "\n",
      "Must hold at least a Bachelor’s degree in any relevant discipline from a recognized university of recognized standing.\n",
      "A post-graduate qualification in a management-related discipline will be an added advantage.\n",
      "5 years’ work experience in a supervisory or administrative or Executive Assistant role in a private or public sector organization.\n",
      "Good organizational, attention to detail, and coordination skills, ability to work calmly under the stress of conflicting deadlines and assignments.\n",
      "Ability to work under tight deadlines with minimal supervision.\n",
      "Effective oral & written communication and presentation skills.\n",
      "Computer Skills (Excel, PowerPoint and Word Processing).\n",
      "Desirable interpersonal and communication skills.\n",
      "Analytical – ability to comprehend management and Board papers and other correspondences.\n",
      "Organizational skills– prioritizing, time management and ability to plan each day to meet deadlines.\n",
      "Strong knowledge of the Labour laws of Uganda.\n",
      "High levels of integrity, professionalism and discretion.\n",
      "High levels of self-initiative and problem-solving skills.\n",
      "Courtesy, tact and diplomacy.\n",
      "\n",
      "\n",
      "\n",
      "\n",
      "\n",
      "\n",
      "Cleaned:\n",
      "\n",
      "duties and responsibilities\n",
      "\n",
      "keep custody of all board and senior management papers documents and minutes\n",
      "maintain a diary of meetings for board committees and senior management\n",
      "take minutes of board meetings\n",
      "prepare attendance registers of board meetings and allowance requisition and reimbursement for payments to board\n",
      "prepare schedules of information that the board has requested from management\n",
      "prepare schedules and information management needs to submit to board for consideration\n",
      "manage all correspondence and records to and from the executive director\n",
      "review documentation to executive director and route these to their respective department heads for action\n",
      "prepare schedules of action points that require the attention of the executive director\n",
      "read reportsproposals to executive director that require her input and provide a summary of key issues that require the attention of the executive director\n",
      "make travel arrangements for the executive director and board members\n",
      "maintain a diary of national and international events that require the participation of the executive director and board members\n",
      "assist in the preparation monitoring and managing costs related to board budget and the executive directors office\n",
      "make travel arrangements for the strategic partners visiting the organizations field operations through the executive directors office\n",
      "qualifications skills and experience\n",
      "\n",
      "must hold at least a bachelors degree in any relevant discipline from a recognized university of recognized standing\n",
      "a postgraduate qualification in a managementrelated discipline will be an added advantage\n",
      "5 years work experience in a supervisory or administrative or executive assistant role in a private or public sector organization\n",
      "good organizational attention to detail and coordination skills ability to work calmly under the stress of conflicting deadlines and assignments\n",
      "ability to work under tight deadlines with minimal supervision\n",
      "effective oral  written communication and presentation skills\n",
      "computer skills excel powerpoint and word processing\n",
      "desirable interpersonal and communication skills\n",
      "analytical  ability to comprehend management and board papers and other correspondences\n",
      "organizational skills prioritizing time management and ability to plan each day to meet deadlines\n",
      "strong knowledge of the labour laws of uganda\n",
      "high levels of integrity professionalism and discretion\n",
      "high levels of selfinitiative and problemsolving skills\n",
      "courtesy tact and diplomacy\n",
      "\n",
      "\n",
      "\n",
      "\n",
      "\n",
      "\n",
      "\n"
     ]
    }
   ],
   "source": [
    "import re\n",
    "\n",
    "def clean_text(text):\n",
    "    # Remove special characters and non-alphanumeric characters\n",
    "    cleaned_text = re.sub(r'[^a-zA-Z0-9\\s]', '', text)\n",
    "    # Convert to lowercase\n",
    "    cleaned_text = cleaned_text.lower()\n",
    "    return cleaned_text\n",
    "\n",
    "# Example job descriptions\n",
    "job_descriptions = [\n",
    "    '''\n",
    "Duties and Responsibilities\n",
    "\n",
    "Keep custody of all Board and Senior Management papers, documents and minutes.\n",
    "Maintain a diary of meetings for Board, Committees and Senior Management.\n",
    "Take minutes of Board meetings.\n",
    "Prepare attendance registers of Board meetings and allowance requisition and reimbursement for payments to Board.\n",
    "Prepare schedules of information that the Board has requested from management.\n",
    "Prepare schedules and information management needs to submit to Board for consideration.\n",
    "Manage all correspondence and records to and from the Executive Director.\n",
    "Review documentation to Executive Director and route these to their respective department heads for action.\n",
    "Prepare schedules of action points that require the attention of the Executive Director.\n",
    "Read reports/proposals to Executive Director that require her input, and provide a summary of key issues that require the attention of the Executive Director.\n",
    "Make travel arrangements for the Executive Director and Board members;\n",
    "Maintain a diary of national and international events that require the participation of the Executive Director and Board Members.\n",
    "Assist in the preparation, monitoring and managing costs related to Board budget and the Executive Director’s office.\n",
    "Make travel arrangements for the strategic partners visiting the organization’s field operations through the Executive Director’s office.\n",
    "Qualifications, Skills, and Experience\n",
    "\n",
    "Must hold at least a Bachelor’s degree in any relevant discipline from a recognized university of recognized standing.\n",
    "A post-graduate qualification in a management-related discipline will be an added advantage.\n",
    "5 years’ work experience in a supervisory or administrative or Executive Assistant role in a private or public sector organization.\n",
    "Good organizational, attention to detail, and coordination skills, ability to work calmly under the stress of conflicting deadlines and assignments.\n",
    "Ability to work under tight deadlines with minimal supervision.\n",
    "Effective oral & written communication and presentation skills.\n",
    "Computer Skills (Excel, PowerPoint and Word Processing).\n",
    "Desirable interpersonal and communication skills.\n",
    "Analytical – ability to comprehend management and Board papers and other correspondences.\n",
    "Organizational skills– prioritizing, time management and ability to plan each day to meet deadlines.\n",
    "Strong knowledge of the Labour laws of Uganda.\n",
    "High levels of integrity, professionalism and discretion.\n",
    "High levels of self-initiative and problem-solving skills.\n",
    "Courtesy, tact and diplomacy.\n",
    "\n",
    "\n",
    "\n",
    "\n",
    "\n",
    "'''\n",
    "]\n",
    "\n",
    "# Apply the cleaning function to each job description\n",
    "cleaned_descriptions = [clean_text(desc) for desc in job_descriptions]\n",
    "\n",
    "# Display the cleaned job descriptions\n",
    "for original, cleaned in zip(job_descriptions, cleaned_descriptions):\n",
    "    print(f\"Original:\\n{original}\\nCleaned:\\n{cleaned}\\n\")\n"
   ]
  },
  {
   "cell_type": "code",
   "execution_count": 36,
   "id": "2e54e055-4241-4291-925c-6baf3c35d25b",
   "metadata": {},
   "outputs": [],
   "source": [
    "import torch\n",
    "from transformers import DistilBertTokenizer, DistilBertModel\n",
    "\n",
    "# Assuming df_new['cleaned_infos'][4] contains a list of resumes\n",
    "resumes = df_new['cleaned_infos'][4]\n",
    "\n",
    "\n",
    "# Initialize the DistilBERT tokenizer and model\n",
    "tokenizer = DistilBertTokenizer.from_pretrained('distilbert-base-uncased')\n",
    "model = DistilBertModel.from_pretrained('distilbert-base-uncased')\n",
    "\n",
    "# Tokenize and embed job descriptions\n",
    "job_description_embeddings = []\n",
    "for description in job_descriptions:\n",
    "    tokens = tokenizer(description, padding=True, truncation=True, return_tensors='pt')\n",
    "    with torch.no_grad():\n",
    "        output = model(**tokens)\n",
    "    embeddings = output.last_hidden_state.mean(dim=1).numpy()\n",
    "    job_description_embeddings.append(embeddings[0])  # Flatten the embeddings to 1D\n",
    "\n",
    "# Tokenize and embed resumes\n",
    "resume_embeddings = []\n",
    "for resume in resumes:\n",
    "    tokens = tokenizer(resume, padding=True, truncation=True, return_tensors='pt')\n",
    "    with torch.no_grad():\n",
    "        output = model(**tokens)\n",
    "    embeddings = output.last_hidden_state.mean(dim=1).numpy()\n",
    "    resume_embeddings.append(embeddings[0])  # Flatten the embeddings to 1D\n"
   ]
  },
  {
   "cell_type": "code",
   "execution_count": 37,
   "id": "3487fc1d-a9a2-41ef-aeb4-c050a55fd381",
   "metadata": {},
   "outputs": [
    {
     "data": {
      "text/plain": [
       "array([[0.20007129, 0.1734515 , 0.16356161, 0.20669504, 0.1734515 ,\n",
       "        0.21654776, 0.20669504, 0.03928   , 0.20091403, 0.20007129,\n",
       "        0.20003414, 0.21636185, 0.21654776, 0.20007129, 0.03928   ,\n",
       "        0.18520577, 0.21654776, 0.1734515 , 0.20007129, 0.1734515 ,\n",
       "        0.21636185, 0.17834981, 0.03928   , 0.22625181, 0.20007129,\n",
       "        0.21636185, 0.16167146, 0.17834981, 0.1746553 , 0.20669504,\n",
       "        0.20003414, 0.20816234, 0.1860146 , 0.03928   , 0.22625181,\n",
       "        0.17993899, 0.1860146 , 0.21654776, 0.1734515 , 0.17834981,\n",
       "        0.1860146 , 0.1860146 , 0.03928   , 0.20007129, 0.19204684,\n",
       "        0.18351068, 0.21654776, 0.1734515 , 0.21654776, 0.1860146 ,\n",
       "        0.16356161, 0.20003414, 0.20007129, 0.16356161, 0.21654776,\n",
       "        0.20669504, 0.1734515 , 0.03928   , 0.15124997, 0.18932268,\n",
       "        0.03928   , 0.20183137, 0.17834981, 0.20007129, 0.20003414,\n",
       "        0.1860146 ]], dtype=float32)"
      ]
     },
     "execution_count": 37,
     "metadata": {},
     "output_type": "execute_result"
    }
   ],
   "source": [
    "# Calculate cosine similarity between job descriptions and resumes\n",
    "similarity_scores = cosine_similarity(job_description_embeddings, resume_embeddings)\n",
    "similarity_scores"
   ]
  },
  {
   "cell_type": "code",
   "execution_count": 38,
   "id": "a46e3af4-b5c6-4cae-bb11-239144ef6f5d",
   "metadata": {},
   "outputs": [
    {
     "name": "stdout",
     "output_type": "stream",
     "text": [
      "Top candidates for JD 1\n",
      "  Candidate 24 - Similarity Score: 0.2263\n",
      "  Candidate 35 - Similarity Score: 0.2263\n",
      "  Candidate 6 - Similarity Score: 0.2165\n",
      "  Candidate 13 - Similarity Score: 0.2165\n",
      "  Candidate 17 - Similarity Score: 0.2165\n",
      "\n"
     ]
    }
   ],
   "source": [
    "# Rank candidates for each job description based on similarity scores\n",
    "num_top_candidates = 5\n",
    "top_candidates = []\n",
    "\n",
    "for i, job_description in enumerate(cleaned_descriptions):\n",
    "    candidates_with_scores = list(enumerate(similarity_scores[i]))\n",
    "    candidates_with_scores.sort(key=lambda x: x[1], reverse=True)\n",
    "    top_candidates_for_job = candidates_with_scores[:num_top_candidates]\n",
    "    top_candidates.append(top_candidates_for_job)\n",
    "\n",
    "# Print the top candidates for each job description\n",
    "for i, job_description in enumerate(cleaned_descriptions):\n",
    "    print(f\"Top candidates for JD {i+1}\")\n",
    "    for candidate_index, score in top_candidates[i]:\n",
    "        print(f\"  Candidate {candidate_index + 1} - Similarity Score: {score:.4f}\")\n",
    "        # Print additional information if needed\n",
    "        # print(f\"  Resume: {resumes[candidate_index]}\")\n",
    "    print()"
   ]
  },
  {
   "cell_type": "code",
   "execution_count": null,
   "id": "759eeb76-b336-4d90-ae60-4542c7f4a0a6",
   "metadata": {},
   "outputs": [],
   "source": []
  },
  {
   "cell_type": "code",
   "execution_count": null,
   "id": "27a4e19c-777b-45d3-9069-2ed00bd05a70",
   "metadata": {},
   "outputs": [],
   "source": []
  }
 ],
 "metadata": {
  "kernelspec": {
   "display_name": "Python 3 (ipykernel)",
   "language": "python",
   "name": "python3"
  },
  "language_info": {
   "codemirror_mode": {
    "name": "ipython",
    "version": 3
   },
   "file_extension": ".py",
   "mimetype": "text/x-python",
   "name": "python",
   "nbconvert_exporter": "python",
   "pygments_lexer": "ipython3",
   "version": "3.11.5"
  }
 },
 "nbformat": 4,
 "nbformat_minor": 5
}
