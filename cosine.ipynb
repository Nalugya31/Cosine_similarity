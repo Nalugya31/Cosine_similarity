{
 "cells": [
  {
   "cell_type": "code",
   "execution_count": 27,
   "id": "d205d25c-e612-4540-84e1-cb6ae3c74493",
   "metadata": {},
   "outputs": [],
   "source": [
    "import numpy as np # linear algebra\n",
    "import pandas as pd # data processing, CSV file I/O (e.g. pd.read_csv)"
   ]
  },
  {
   "cell_type": "code",
   "execution_count": 28,
   "id": "766ea4b7-81dd-4979-a2fd-40a87c9d2744",
   "metadata": {},
   "outputs": [],
   "source": [
    "import matplotlib.pyplot as plt\n",
    "import seaborn as sns\n",
    "import nltk\n",
    "from nltk.tokenize import word_tokenize \n",
    "\n",
    "plt.rcParams['figure.figsize'] = (13, 7)"
   ]
  },
  {
   "cell_type": "code",
   "execution_count": 29,
   "id": "26239a51-73e9-478d-a732-6ad2addd82b1",
   "metadata": {},
   "outputs": [
    {
     "data": {
      "text/html": [
       "<div>\n",
       "<style scoped>\n",
       "    .dataframe tbody tr th:only-of-type {\n",
       "        vertical-align: middle;\n",
       "    }\n",
       "\n",
       "    .dataframe tbody tr th {\n",
       "        vertical-align: top;\n",
       "    }\n",
       "\n",
       "    .dataframe thead th {\n",
       "        text-align: right;\n",
       "    }\n",
       "</style>\n",
       "<table border=\"1\" class=\"dataframe\">\n",
       "  <thead>\n",
       "    <tr style=\"text-align: right;\">\n",
       "      <th></th>\n",
       "      <th>Name</th>\n",
       "      <th>Skill</th>\n",
       "      <th>Education</th>\n",
       "      <th>Experience</th>\n",
       "    </tr>\n",
       "  </thead>\n",
       "  <tbody>\n",
       "    <tr>\n",
       "      <th>0</th>\n",
       "      <td>Susan Moyer</td>\n",
       "      <td>Accounting, Economics, Business Awareness, Dat...</td>\n",
       "      <td>Bachelors degree in Finance</td>\n",
       "      <td>17 years</td>\n",
       "    </tr>\n",
       "    <tr>\n",
       "      <th>1</th>\n",
       "      <td>Linda Mayo</td>\n",
       "      <td>Medicine Dosage Calculation, Patient Care, Com...</td>\n",
       "      <td>Bachelors degree in Nursing</td>\n",
       "      <td>17 years</td>\n",
       "    </tr>\n",
       "    <tr>\n",
       "      <th>2</th>\n",
       "      <td>Donald Robinson</td>\n",
       "      <td>Lesson Planning, Teaching, Education Psycholog...</td>\n",
       "      <td>Bachelors degree in Teaching</td>\n",
       "      <td>5 years</td>\n",
       "    </tr>\n",
       "    <tr>\n",
       "      <th>3</th>\n",
       "      <td>Katherine Lane</td>\n",
       "      <td>Problem Solving, Backend Development, JavaScri...</td>\n",
       "      <td>Bachelors degree in Web Development</td>\n",
       "      <td>2 years</td>\n",
       "    </tr>\n",
       "    <tr>\n",
       "      <th>4</th>\n",
       "      <td>Ernest Reed</td>\n",
       "      <td>Nutrition Therapy, Diet plan, Molecular Biolog...</td>\n",
       "      <td>Bachelors degree in Nutrition</td>\n",
       "      <td>20 years</td>\n",
       "    </tr>\n",
       "  </tbody>\n",
       "</table>\n",
       "</div>"
      ],
      "text/plain": [
       "              Name                                              Skill  \\\n",
       "0      Susan Moyer  Accounting, Economics, Business Awareness, Dat...   \n",
       "1       Linda Mayo  Medicine Dosage Calculation, Patient Care, Com...   \n",
       "2  Donald Robinson  Lesson Planning, Teaching, Education Psycholog...   \n",
       "3   Katherine Lane  Problem Solving, Backend Development, JavaScri...   \n",
       "4      Ernest Reed  Nutrition Therapy, Diet plan, Molecular Biolog...   \n",
       "\n",
       "                             Education Experience  \n",
       "0          Bachelors degree in Finance   17 years  \n",
       "1          Bachelors degree in Nursing   17 years  \n",
       "2         Bachelors degree in Teaching    5 years  \n",
       "3  Bachelors degree in Web Development    2 years  \n",
       "4        Bachelors degree in Nutrition   20 years  "
      ]
     },
     "execution_count": 29,
     "metadata": {},
     "output_type": "execute_result"
    }
   ],
   "source": [
    "\n",
    "\n",
    "#take a look on the dataset\n",
    "df = pd.read_csv(\"random_data.csv\")\n",
    "df.head(5)\n",
    "\n"
   ]
  },
  {
   "cell_type": "code",
   "execution_count": 30,
   "id": "862cb740-2892-4369-8279-c50c474b5702",
   "metadata": {},
   "outputs": [
    {
     "name": "stdout",
     "output_type": "stream",
     "text": [
      "<class 'pandas.core.frame.DataFrame'>\n",
      "RangeIndex: 6000 entries, 0 to 5999\n",
      "Data columns (total 4 columns):\n",
      " #   Column      Non-Null Count  Dtype \n",
      "---  ------      --------------  ----- \n",
      " 0   Name        6000 non-null   object\n",
      " 1   Skill       6000 non-null   object\n",
      " 2   Education   6000 non-null   object\n",
      " 3   Experience  6000 non-null   object\n",
      "dtypes: object(4)\n",
      "memory usage: 187.6+ KB\n"
     ]
    }
   ],
   "source": [
    "\n",
    "\n",
    "#showing info for each featrue\n",
    "df.info()\n",
    "\n"
   ]
  },
  {
   "cell_type": "code",
   "execution_count": 31,
   "id": "99c0a46c-030e-44f2-aa08-f12a2f4e54d6",
   "metadata": {},
   "outputs": [
    {
     "data": {
      "text/html": [
       "<div>\n",
       "<style scoped>\n",
       "    .dataframe tbody tr th:only-of-type {\n",
       "        vertical-align: middle;\n",
       "    }\n",
       "\n",
       "    .dataframe tbody tr th {\n",
       "        vertical-align: top;\n",
       "    }\n",
       "\n",
       "    .dataframe thead th {\n",
       "        text-align: right;\n",
       "    }\n",
       "</style>\n",
       "<table border=\"1\" class=\"dataframe\">\n",
       "  <thead>\n",
       "    <tr style=\"text-align: right;\">\n",
       "      <th></th>\n",
       "      <th>Name</th>\n",
       "      <th>Skill</th>\n",
       "      <th>Education</th>\n",
       "      <th>Experience</th>\n",
       "    </tr>\n",
       "  </thead>\n",
       "  <tbody>\n",
       "    <tr>\n",
       "      <th>0</th>\n",
       "      <td>Susan Moyer</td>\n",
       "      <td>Accounting, Economics, Business Awareness, Dat...</td>\n",
       "      <td>Bachelors degree in Finance</td>\n",
       "      <td>17 years</td>\n",
       "    </tr>\n",
       "  </tbody>\n",
       "</table>\n",
       "</div>"
      ],
      "text/plain": [
       "          Name                                              Skill  \\\n",
       "0  Susan Moyer  Accounting, Economics, Business Awareness, Dat...   \n",
       "\n",
       "                     Education Experience  \n",
       "0  Bachelors degree in Finance   17 years  "
      ]
     },
     "execution_count": 31,
     "metadata": {},
     "output_type": "execute_result"
    }
   ],
   "source": [
    "\n",
    "\n",
    "df.head(1)\n",
    "\n"
   ]
  },
  {
   "cell_type": "code",
   "execution_count": 32,
   "id": "4f883b17-3cb6-467b-a789-845e602c5314",
   "metadata": {
    "scrolled": true
   },
   "outputs": [
    {
     "data": {
      "text/plain": [
       "Name          0\n",
       "Skill         0\n",
       "Education     0\n",
       "Experience    0\n",
       "dtype: int64"
      ]
     },
     "execution_count": 32,
     "metadata": {},
     "output_type": "execute_result"
    }
   ],
   "source": [
    "\n",
    "\n",
    "#now checking the NaN values\n",
    "df.isnull().sum()\n",
    "\n"
   ]
  },
  {
   "cell_type": "code",
   "execution_count": 33,
   "id": "4d2942d3-7dab-47b4-879b-725f51c509ce",
   "metadata": {},
   "outputs": [],
   "source": [
    "df['Skill'] = df['Skill'].fillna(\"Unknown\")\n",
    "df['Education'] = df['Education'].fillna(\"Unknown\")\n",
    "df['Experience'] = df['Experience'].fillna(\"Unknown\")\n",
    "df = df.reset_index( drop=True)\n"
   ]
  },
  {
   "cell_type": "code",
   "execution_count": 34,
   "id": "17f27bff-fd32-4bb9-9b42-1d806c8d5535",
   "metadata": {},
   "outputs": [
    {
     "data": {
      "text/html": [
       "<div>\n",
       "<style scoped>\n",
       "    .dataframe tbody tr th:only-of-type {\n",
       "        vertical-align: middle;\n",
       "    }\n",
       "\n",
       "    .dataframe tbody tr th {\n",
       "        vertical-align: top;\n",
       "    }\n",
       "\n",
       "    .dataframe thead th {\n",
       "        text-align: right;\n",
       "    }\n",
       "</style>\n",
       "<table border=\"1\" class=\"dataframe\">\n",
       "  <thead>\n",
       "    <tr style=\"text-align: right;\">\n",
       "      <th></th>\n",
       "      <th>Name</th>\n",
       "      <th>Skill</th>\n",
       "      <th>Education</th>\n",
       "      <th>Experience</th>\n",
       "    </tr>\n",
       "  </thead>\n",
       "  <tbody>\n",
       "    <tr>\n",
       "      <th>0</th>\n",
       "      <td>Susan Moyer</td>\n",
       "      <td>Accounting, Economics, Business Awareness, Dat...</td>\n",
       "      <td>Bachelors degree in Finance</td>\n",
       "      <td>17 years</td>\n",
       "    </tr>\n",
       "    <tr>\n",
       "      <th>1</th>\n",
       "      <td>Linda Mayo</td>\n",
       "      <td>Medicine Dosage Calculation, Patient Care, Com...</td>\n",
       "      <td>Bachelors degree in Nursing</td>\n",
       "      <td>17 years</td>\n",
       "    </tr>\n",
       "    <tr>\n",
       "      <th>2</th>\n",
       "      <td>Donald Robinson</td>\n",
       "      <td>Lesson Planning, Teaching, Education Psycholog...</td>\n",
       "      <td>Bachelors degree in Teaching</td>\n",
       "      <td>5 years</td>\n",
       "    </tr>\n",
       "    <tr>\n",
       "      <th>3</th>\n",
       "      <td>Katherine Lane</td>\n",
       "      <td>Problem Solving, Backend Development, JavaScri...</td>\n",
       "      <td>Bachelors degree in Web Development</td>\n",
       "      <td>2 years</td>\n",
       "    </tr>\n",
       "    <tr>\n",
       "      <th>4</th>\n",
       "      <td>Ernest Reed</td>\n",
       "      <td>Nutrition Therapy, Diet plan, Molecular Biolog...</td>\n",
       "      <td>Bachelors degree in Nutrition</td>\n",
       "      <td>20 years</td>\n",
       "    </tr>\n",
       "  </tbody>\n",
       "</table>\n",
       "</div>"
      ],
      "text/plain": [
       "              Name                                              Skill  \\\n",
       "0      Susan Moyer  Accounting, Economics, Business Awareness, Dat...   \n",
       "1       Linda Mayo  Medicine Dosage Calculation, Patient Care, Com...   \n",
       "2  Donald Robinson  Lesson Planning, Teaching, Education Psycholog...   \n",
       "3   Katherine Lane  Problem Solving, Backend Development, JavaScri...   \n",
       "4      Ernest Reed  Nutrition Therapy, Diet plan, Molecular Biolog...   \n",
       "\n",
       "                             Education Experience  \n",
       "0          Bachelors degree in Finance   17 years  \n",
       "1          Bachelors degree in Nursing   17 years  \n",
       "2         Bachelors degree in Teaching    5 years  \n",
       "3  Bachelors degree in Web Development    2 years  \n",
       "4        Bachelors degree in Nutrition   20 years  "
      ]
     },
     "execution_count": 34,
     "metadata": {},
     "output_type": "execute_result"
    }
   ],
   "source": [
    "\n",
    "\n",
    "df.head(5)\n",
    "\n"
   ]
  },
  {
   "cell_type": "code",
   "execution_count": 35,
   "id": "a0065284-2160-433a-9ab7-e6e50810f1c7",
   "metadata": {},
   "outputs": [],
   "source": [
    "overall_infos = []\n",
    "for i in range(0, df.shape[0]):\n",
    "    overall_infos.append(df['Name'][i]+' '+df['Skill'][i]+' '+df['Education'][i]+' '+df['Experience'][i])\n",
    "df['overall_infos'] = overall_infos"
   ]
  },
  {
   "cell_type": "code",
   "execution_count": 36,
   "id": "535a52e3-56e6-4553-a378-c4c1b0fd0b04",
   "metadata": {},
   "outputs": [
    {
     "data": {
      "text/html": [
       "<div>\n",
       "<style scoped>\n",
       "    .dataframe tbody tr th:only-of-type {\n",
       "        vertical-align: middle;\n",
       "    }\n",
       "\n",
       "    .dataframe tbody tr th {\n",
       "        vertical-align: top;\n",
       "    }\n",
       "\n",
       "    .dataframe thead th {\n",
       "        text-align: right;\n",
       "    }\n",
       "</style>\n",
       "<table border=\"1\" class=\"dataframe\">\n",
       "  <thead>\n",
       "    <tr style=\"text-align: right;\">\n",
       "      <th></th>\n",
       "      <th>overall_infos</th>\n",
       "    </tr>\n",
       "  </thead>\n",
       "  <tbody>\n",
       "    <tr>\n",
       "      <th>0</th>\n",
       "      <td>Susan Moyer Accounting, Economics, Business Aw...</td>\n",
       "    </tr>\n",
       "    <tr>\n",
       "      <th>1</th>\n",
       "      <td>Linda Mayo Medicine Dosage Calculation, Patien...</td>\n",
       "    </tr>\n",
       "  </tbody>\n",
       "</table>\n",
       "</div>"
      ],
      "text/plain": [
       "                                       overall_infos\n",
       "0  Susan Moyer Accounting, Economics, Business Aw...\n",
       "1  Linda Mayo Medicine Dosage Calculation, Patien..."
      ]
     },
     "execution_count": 36,
     "metadata": {},
     "output_type": "execute_result"
    }
   ],
   "source": [
    "df_new = df[['overall_infos']]\n",
    "df_new.head(2)"
   ]
  },
  {
   "cell_type": "code",
   "execution_count": 37,
   "id": "463143af-db7a-4316-9eda-a4a72913df27",
   "metadata": {},
   "outputs": [],
   "source": [
    "#Stopwords help us to get rid of unwanted words like: a, an, are, is, ...\n",
    "from nltk.corpus import stopwords\n",
    "stop = stopwords.words('english')"
   ]
  },
  {
   "cell_type": "code",
   "execution_count": 38,
   "id": "16ee169d-599b-47f9-abbb-c91c526a702d",
   "metadata": {},
   "outputs": [],
   "source": [
    "def text_preprocessing(column):\n",
    "    #make all words with lower letters\n",
    "    column = column.str.lower()\n",
    "    #getting rid of any punctution\n",
    "    column = column.str.replace('http\\S+|www.\\S+|@|%|:|,|', '', case=False)\n",
    "    #spliting each sentence to words to apply previous funtions on them \n",
    "    word_tokens = column.str.split()\n",
    "    keywords = word_tokens.apply(lambda x: [item for item in x if item not in stop])\n",
    "    #assemble words of each sentence again and assign them in new column\n",
    "    for i in range(len(keywords)):\n",
    "        keywords[i] = \" \".join(keywords[i])\n",
    "        column = keywords\n",
    "\n",
    "    return column"
   ]
  },
  {
   "cell_type": "code",
   "execution_count": 39,
   "id": "9bbfdbcb-164d-4ad0-b3a7-d96b3f8801b6",
   "metadata": {},
   "outputs": [
    {
     "name": "stderr",
     "output_type": "stream",
     "text": [
      "/tmp/ipykernel_23806/3345913491.py:1: SettingWithCopyWarning: \n",
      "A value is trying to be set on a copy of a slice from a DataFrame.\n",
      "Try using .loc[row_indexer,col_indexer] = value instead\n",
      "\n",
      "See the caveats in the documentation: https://pandas.pydata.org/pandas-docs/stable/user_guide/indexing.html#returning-a-view-versus-a-copy\n",
      "  df_new.loc[:, 'cleaned_infos'] = text_preprocessing(df_new['overall_infos'])\n"
     ]
    }
   ],
   "source": [
    "\n",
    "\n",
    "df_new.loc[:, 'cleaned_infos'] = text_preprocessing(df_new['overall_infos'])\n",
    "\n",
    "\n"
   ]
  },
  {
   "cell_type": "code",
   "execution_count": 40,
   "id": "eb6cd85c-aaf2-4673-98ee-d929fbb8c3f7",
   "metadata": {},
   "outputs": [
    {
     "data": {
      "text/plain": [
       "0       Susan Moyer Accounting, Economics, Business Aw...\n",
       "1       Linda Mayo Medicine Dosage Calculation, Patien...\n",
       "2       Donald Robinson Lesson Planning, Teaching, Edu...\n",
       "3       Katherine Lane Problem Solving, Backend Develo...\n",
       "4       Ernest Reed Nutrition Therapy, Diet plan, Mole...\n",
       "                              ...                        \n",
       "5995    Tyler Shah Adobe Creative Suite, Typography, L...\n",
       "5996    Charlotte Howard JavaScript, Problem Solving, ...\n",
       "5997    Marc Smith Database Administration, Programmin...\n",
       "5998    Michelle Mcpherson Business Awareness, Account...\n",
       "5999    Brittany Friedman Web design, Data analysis, S...\n",
       "Name: overall_infos, Length: 6000, dtype: object"
      ]
     },
     "execution_count": 40,
     "metadata": {},
     "output_type": "execute_result"
    }
   ],
   "source": [
    "\n",
    "\n",
    "df['overall_infos']\n",
    "\n"
   ]
  },
  {
   "cell_type": "code",
   "execution_count": 41,
   "id": "f103f1a8-5f4f-411c-919b-fa72aaa4ef18",
   "metadata": {},
   "outputs": [
    {
     "data": {
      "text/plain": [
       "0       susan moyer accounting, economics, business aw...\n",
       "1       linda mayo medicine dosage calculation, patien...\n",
       "2       donald robinson lesson planning, teaching, edu...\n",
       "3       katherine lane problem solving, backend develo...\n",
       "4       ernest reed nutrition therapy, diet plan, mole...\n",
       "                              ...                        \n",
       "5995    tyler shah adobe creative suite, typography, l...\n",
       "5996    charlotte howard javascript, problem solving, ...\n",
       "5997    marc smith database administration, programmin...\n",
       "5998    michelle mcpherson business awareness, account...\n",
       "5999    brittany friedman web design, data analysis, s...\n",
       "Name: cleaned_infos, Length: 6000, dtype: object"
      ]
     },
     "execution_count": 41,
     "metadata": {},
     "output_type": "execute_result"
    }
   ],
   "source": [
    "df_new['cleaned_infos']"
   ]
  },
  {
   "cell_type": "code",
   "execution_count": 42,
   "id": "622cb413-8fad-4eb0-8cac-3308e683f52e",
   "metadata": {},
   "outputs": [],
   "source": [
    "from sklearn.model_selection import train_test_split  # Importing train_test_split\n",
    "# Define stopwords\n",
    "stop = stopwords.words('english')\n",
    "\n",
    "# Split the dataset into training and testing sets\n",
    "train_data, test_data = train_test_split(df_new, test_size=0.2, random_state=42)\n",
    "\n",
    "# Assuming df_new['cleaned_infos'] contains the resumes data\n",
    "train_resumes = train_data['cleaned_infos']\n",
    "test_resumes = test_data['cleaned_infos']"
   ]
  },
  {
   "cell_type": "code",
   "execution_count": 43,
   "id": "40dd74a7-1ad1-4fb9-af13-0e9237726abe",
   "metadata": {},
   "outputs": [],
   "source": [
    "from sklearn.feature_extraction.text import CountVectorizer\n",
    "from sklearn.metrics.pairwise import cosine_similarity\n",
    "\n",
    "CV = CountVectorizer()\n",
    "converted_metrix = CV.fit_transform(df_new['cleaned_infos'])"
   ]
  },
  {
   "cell_type": "code",
   "execution_count": null,
   "id": "ea6d0578-a526-40de-addb-9e9a60b1a096",
   "metadata": {},
   "outputs": [],
   "source": []
  },
  {
   "cell_type": "code",
   "execution_count": 44,
   "id": "fbca6880-e58c-485c-8188-7c2511165fd0",
   "metadata": {},
   "outputs": [],
   "source": [
    "\n",
    "\n",
    "cosine_similarity = cosine_similarity(converted_metrix)\n",
    "\n"
   ]
  },
  {
   "cell_type": "code",
   "execution_count": 45,
   "id": "e30ba8e9-2023-4fa6-b367-fd2bcfb57bb0",
   "metadata": {},
   "outputs": [
    {
     "data": {
      "text/plain": [
       "array([[1.        , 0.25048972, 0.18786729, ..., 0.36514837, 0.82807867,\n",
       "        0.31311215],\n",
       "       [0.25048972, 1.        , 0.23529412, ..., 0.17149859, 0.19446112,\n",
       "        0.23529412],\n",
       "       [0.18786729, 0.23529412, 1.        , ..., 0.17149859, 0.19446112,\n",
       "        0.23529412],\n",
       "       ...,\n",
       "       [0.36514837, 0.17149859, 0.17149859, ..., 1.        , 0.37796447,\n",
       "        0.34299717],\n",
       "       [0.82807867, 0.19446112, 0.19446112, ..., 0.37796447, 1.        ,\n",
       "        0.32410186],\n",
       "       [0.31311215, 0.23529412, 0.23529412, ..., 0.34299717, 0.32410186,\n",
       "        1.        ]])"
      ]
     },
     "execution_count": 45,
     "metadata": {},
     "output_type": "execute_result"
    }
   ],
   "source": [
    "cosine_similarity"
   ]
  },
  {
   "cell_type": "code",
   "execution_count": 46,
   "id": "1334f62e-7033-49fe-942b-379558074a7c",
   "metadata": {},
   "outputs": [
    {
     "data": {
      "text/html": [
       "<div>\n",
       "<style scoped>\n",
       "    .dataframe tbody tr th:only-of-type {\n",
       "        vertical-align: middle;\n",
       "    }\n",
       "\n",
       "    .dataframe tbody tr th {\n",
       "        vertical-align: top;\n",
       "    }\n",
       "\n",
       "    .dataframe thead th {\n",
       "        text-align: right;\n",
       "    }\n",
       "</style>\n",
       "<table border=\"1\" class=\"dataframe\">\n",
       "  <thead>\n",
       "    <tr style=\"text-align: right;\">\n",
       "      <th></th>\n",
       "      <th>Name</th>\n",
       "      <th>Skill</th>\n",
       "      <th>Education</th>\n",
       "      <th>Experience</th>\n",
       "      <th>overall_infos</th>\n",
       "    </tr>\n",
       "  </thead>\n",
       "  <tbody>\n",
       "  </tbody>\n",
       "</table>\n",
       "</div>"
      ],
      "text/plain": [
       "Empty DataFrame\n",
       "Columns: [Name, Skill, Education, Experience, overall_infos]\n",
       "Index: []"
      ]
     },
     "execution_count": 46,
     "metadata": {},
     "output_type": "execute_result"
    }
   ],
   "source": [
    "#finding the correct name of a skill\n",
    "df[df['Skill'].str.contains('Finance')]"
   ]
  },
  {
   "cell_type": "code",
   "execution_count": 47,
   "id": "daada10e-b27c-483c-adeb-8f47200f926a",
   "metadata": {},
   "outputs": [
    {
     "name": "stdout",
     "output_type": "stream",
     "text": [
      "Requirement already satisfied: torch in /home/nalugya-vanessa/anaconda3/lib/python3.11/site-packages (2.1.2)\n",
      "Requirement already satisfied: filelock in /home/nalugya-vanessa/anaconda3/lib/python3.11/site-packages (from torch) (3.13.1)\n",
      "Requirement already satisfied: typing-extensions in /home/nalugya-vanessa/anaconda3/lib/python3.11/site-packages (from torch) (4.9.0)\n",
      "Requirement already satisfied: sympy in /home/nalugya-vanessa/anaconda3/lib/python3.11/site-packages (from torch) (1.12)\n",
      "Requirement already satisfied: networkx in /home/nalugya-vanessa/anaconda3/lib/python3.11/site-packages (from torch) (3.1)\n",
      "Requirement already satisfied: jinja2 in /home/nalugya-vanessa/anaconda3/lib/python3.11/site-packages (from torch) (3.1.2)\n",
      "Requirement already satisfied: fsspec in /home/nalugya-vanessa/anaconda3/lib/python3.11/site-packages (from torch) (2023.10.0)\n",
      "Requirement already satisfied: nvidia-cuda-nvrtc-cu12==12.1.105 in /home/nalugya-vanessa/anaconda3/lib/python3.11/site-packages (from torch) (12.1.105)\n",
      "Requirement already satisfied: nvidia-cuda-runtime-cu12==12.1.105 in /home/nalugya-vanessa/anaconda3/lib/python3.11/site-packages (from torch) (12.1.105)\n",
      "Requirement already satisfied: nvidia-cuda-cupti-cu12==12.1.105 in /home/nalugya-vanessa/anaconda3/lib/python3.11/site-packages (from torch) (12.1.105)\n",
      "Requirement already satisfied: nvidia-cudnn-cu12==8.9.2.26 in /home/nalugya-vanessa/anaconda3/lib/python3.11/site-packages (from torch) (8.9.2.26)\n",
      "Requirement already satisfied: nvidia-cublas-cu12==12.1.3.1 in /home/nalugya-vanessa/anaconda3/lib/python3.11/site-packages (from torch) (12.1.3.1)\n",
      "Requirement already satisfied: nvidia-cufft-cu12==11.0.2.54 in /home/nalugya-vanessa/anaconda3/lib/python3.11/site-packages (from torch) (11.0.2.54)\n",
      "Requirement already satisfied: nvidia-curand-cu12==10.3.2.106 in /home/nalugya-vanessa/anaconda3/lib/python3.11/site-packages (from torch) (10.3.2.106)\n",
      "Requirement already satisfied: nvidia-cusolver-cu12==11.4.5.107 in /home/nalugya-vanessa/anaconda3/lib/python3.11/site-packages (from torch) (11.4.5.107)\n",
      "Requirement already satisfied: nvidia-cusparse-cu12==12.1.0.106 in /home/nalugya-vanessa/anaconda3/lib/python3.11/site-packages (from torch) (12.1.0.106)\n",
      "Requirement already satisfied: nvidia-nccl-cu12==2.18.1 in /home/nalugya-vanessa/anaconda3/lib/python3.11/site-packages (from torch) (2.18.1)\n",
      "Requirement already satisfied: nvidia-nvtx-cu12==12.1.105 in /home/nalugya-vanessa/anaconda3/lib/python3.11/site-packages (from torch) (12.1.105)\n",
      "Requirement already satisfied: triton==2.1.0 in /home/nalugya-vanessa/anaconda3/lib/python3.11/site-packages (from torch) (2.1.0)\n",
      "Requirement already satisfied: nvidia-nvjitlink-cu12 in /home/nalugya-vanessa/anaconda3/lib/python3.11/site-packages (from nvidia-cusolver-cu12==11.4.5.107->torch) (12.3.101)\n",
      "Requirement already satisfied: MarkupSafe>=2.0 in /home/nalugya-vanessa/anaconda3/lib/python3.11/site-packages (from jinja2->torch) (2.1.3)\n",
      "Requirement already satisfied: mpmath>=0.19 in /home/nalugya-vanessa/anaconda3/lib/python3.11/site-packages (from sympy->torch) (1.3.0)\n"
     ]
    }
   ],
   "source": [
    "!pip install torch\n",
    "\n",
    "import torch\n",
    "from datasets import load_dataset\n",
    "from transformers import DistilBertTokenizer, DistilBertModel\n",
    "from sklearn.metrics.pairwise import cosine_similarity"
   ]
  },
  {
   "cell_type": "code",
   "execution_count": 48,
   "id": "db703e7c-df0b-42fa-83fc-17bec41d9e75",
   "metadata": {},
   "outputs": [
    {
     "name": "stdout",
     "output_type": "stream",
     "text": [
      "Original:\n",
      "\n",
      "\n",
      "\n",
      "About the Role\n",
      "\n",
      "\n",
      "\n",
      "\n",
      "\n",
      "Cleaned:\n",
      "role\n",
      "\n"
     ]
    }
   ],
   "source": [
    "import re\n",
    "import string\n",
    "import nltk\n",
    "from nltk.corpus import stopwords\n",
    "\n",
    "def clean_text(text):\n",
    "    # Remove URLs\n",
    "    text = re.sub(r'http\\S+', '', text)\n",
    "    \n",
    "    # Remove special characters and non-alphanumeric characters (excluding spaces)\n",
    "    text = re.sub(r'[^a-zA-Z0-9\\s]', '', text)\n",
    "    \n",
    "    # Convert to lowercase\n",
    "    text = text.lower()\n",
    "    \n",
    "    # Tokenize text\n",
    "    tokens = nltk.word_tokenize(text)\n",
    "    \n",
    "    # Remove punctuation\n",
    "    tokens = [word for word in tokens if word not in string.punctuation]\n",
    "    \n",
    "    # Remove stopwords\n",
    "    stop_words = set(stopwords.words('english'))\n",
    "    tokens = [word for word in tokens if word not in stop_words]\n",
    "    \n",
    "    # Reconstruct the text\n",
    "    cleaned_text = ' '.join(tokens)\n",
    "    \n",
    "    return cleaned_text\n",
    "\n",
    "# Example job descriptions\n",
    "job_descriptions = [\n",
    "    '''\n",
    "\n",
    "\n",
    "About the Role\n",
    "\n",
    "\n",
    "\n",
    "\n",
    "'''\n",
    "]\n",
    "\n",
    "# Apply the cleaning function to each job description\n",
    "cleaned_descriptions = [clean_text(desc) for desc in job_descriptions]\n",
    "\n",
    "# Display the cleaned job descriptions\n",
    "for original, cleaned in zip(job_descriptions, cleaned_descriptions):\n",
    "    print(f\"Original:\\n{original}\\nCleaned:\\n{cleaned}\\n\")\n"
   ]
  },
  {
   "cell_type": "code",
   "execution_count": 49,
   "id": "2e54e055-4241-4291-925c-6baf3c35d25b",
   "metadata": {},
   "outputs": [
    {
     "name": "stderr",
     "output_type": "stream",
     "text": [
      "Some weights of the model checkpoint at distilbert-base-uncased were not used when initializing DistilBertModel: ['vocab_layer_norm.bias', 'vocab_transform.bias', 'vocab_projector.bias', 'vocab_transform.weight', 'vocab_layer_norm.weight']\n",
      "- This IS expected if you are initializing DistilBertModel from the checkpoint of a model trained on another task or with another architecture (e.g. initializing a BertForSequenceClassification model from a BertForPreTraining model).\n",
      "- This IS NOT expected if you are initializing DistilBertModel from the checkpoint of a model that you expect to be exactly identical (initializing a BertForSequenceClassification model from a BertForSequenceClassification model).\n"
     ]
    }
   ],
   "source": [
    "import torch\n",
    "from transformers import DistilBertTokenizer, DistilBertModel\n",
    "\n",
    "# Initialize the DistilBERT tokenizer and model\n",
    "tokenizer = DistilBertTokenizer.from_pretrained('distilbert-base-uncased')\n",
    "model = DistilBertModel.from_pretrained('distilbert-base-uncased')\n",
    "\n",
    "# Move the model to GPU if available\n",
    "device = torch.device(\"cuda\" if torch.cuda.is_available() else \"cpu\")\n",
    "model.to(device)\n",
    "\n",
    "# Define batch size\n",
    "batch_size = 8  # Adjust according to your computational resources\n",
    "\n",
    "# Define job descriptions\n",
    "job_descriptions = [\n",
    "    '''\n",
    "123\n",
    "\n",
    "\n",
    "\n",
    "\n",
    "\n",
    "    '''\n",
    "]\n",
    "\n",
    "# Tokenize and embed job descriptions\n",
    "job_description_embeddings = []\n",
    "for i in range(0, len(job_descriptions), batch_size):\n",
    "    batch = job_descriptions[i:i+batch_size]\n",
    "    tokens = tokenizer(batch, padding=True, truncation=True, return_tensors='pt')\n",
    "    tokens.to(device)\n",
    "    with torch.no_grad():\n",
    "        output = model(**tokens)\n",
    "    embeddings = output.last_hidden_state.mean(dim=1).cpu().numpy()\n",
    "    job_description_embeddings.extend(embeddings)\n",
    "\n",
    "# Assuming df_new['cleaned_infos'][4] contains a list of resumes\n",
    "resumes = df_new['cleaned_infos'][4]\n",
    "\n",
    "# Tokenize and embed resumes\n",
    "resume_embeddings = []\n",
    "for i in range(0, len(resumes), batch_size):\n",
    "    batch = resumes[i:i+batch_size]\n",
    "    tokens = tokenizer(batch, padding=True, truncation=True, return_tensors='pt')\n",
    "    tokens.to(device)\n",
    "    with torch.no_grad():\n",
    "        output = model(**tokens)\n",
    "    embeddings = output.last_hidden_state.mean(dim=1).cpu().numpy()\n",
    "    resume_embeddings.extend(embeddings)\n",
    "\n",
    "# Calculate similarity scores\n",
    "similarity_scores = []\n",
    "for job_embedding in job_description_embeddings:\n",
    "    job_embedding = torch.tensor(job_embedding).to(device)\n",
    "    job_embedding = job_embedding.unsqueeze(0)  # Add batch dimension\n",
    "    for resume_embedding in resume_embeddings:\n",
    "        resume_embedding = torch.tensor(resume_embedding).to(device)\n",
    "        resume_embedding = resume_embedding.unsqueeze(0)  # Add batch dimension\n",
    "        with torch.no_grad():\n",
    "            score = torch.cosine_similarity(job_embedding, resume_embedding)\n",
    "        similarity_scores.append(score.item())\n",
    "\n",
    "# Define threshold for qualifying candidates\n",
    "threshold = 0.5  # Adjust as needed\n",
    "\n",
    "# Filter candidates based on similarity scores\n",
    "qualified_candidates = [resume for resume, score in zip(resumes, similarity_scores) if score > threshold]\n"
   ]
  },
  {
   "cell_type": "code",
   "execution_count": 50,
   "id": "3487fc1d-a9a2-41ef-aeb4-c050a55fd381",
   "metadata": {},
   "outputs": [
    {
     "data": {
      "text/plain": [
       "array([[0.7621418 , 0.59665704, 0.65583736, 0.67597055, 0.7065439 ,\n",
       "        0.70006585, 0.5853081 , 0.60756356, 0.81090474, 0.5913018 ,\n",
       "        0.63469505, 0.69136345, 0.6649379 , 0.6726779 , 0.7580738 ,\n",
       "        0.76261973]], dtype=float32)"
      ]
     },
     "execution_count": 50,
     "metadata": {},
     "output_type": "execute_result"
    }
   ],
   "source": [
    "# Calculate cosine similarity between job descriptions and resumes\n",
    "similarity_scores = cosine_similarity(job_description_embeddings, resume_embeddings)\n",
    "similarity_scores"
   ]
  },
  {
   "cell_type": "code",
   "execution_count": 51,
   "id": "a46e3af4-b5c6-4cae-bb11-239144ef6f5d",
   "metadata": {},
   "outputs": [
    {
     "name": "stdout",
     "output_type": "stream",
     "text": [
      "Top candidates for JD 1\n",
      "  Candidate 9 - Similarity Score: 0.8109\n",
      "  Candidate 16 - Similarity Score: 0.7626\n",
      "  Candidate 1 - Similarity Score: 0.7621\n",
      "  Candidate 15 - Similarity Score: 0.7581\n",
      "  Candidate 5 - Similarity Score: 0.7065\n",
      "\n"
     ]
    }
   ],
   "source": [
    "# Rank candidates for each job description based on similarity scores\n",
    "num_top_candidates = 5\n",
    "top_candidates = []\n",
    "\n",
    "for i, job_description in enumerate(cleaned_descriptions):\n",
    "    candidates_with_scores = list(enumerate(similarity_scores[i]))\n",
    "    candidates_with_scores.sort(key=lambda x: x[1], reverse=True)\n",
    "    top_candidates_for_job = candidates_with_scores[:num_top_candidates]\n",
    "    top_candidates.append(top_candidates_for_job)\n",
    "\n",
    "# Print the top candidates for each job description\n",
    "for i, job_description in enumerate(cleaned_descriptions):\n",
    "    print(f\"Top candidates for JD {i+1}\")\n",
    "    for candidate_index, score in top_candidates[i]:\n",
    "        print(f\"  Candidate {candidate_index + 1} - Similarity Score: {score:.4f}\")\n",
    "        # Print additional information if needed\n",
    "        # print(f\"  Resume: {resumes[candidate_index]}\")\n",
    "    print()"
   ]
  },
  {
   "cell_type": "code",
   "execution_count": null,
   "id": "759eeb76-b336-4d90-ae60-4542c7f4a0a6",
   "metadata": {},
   "outputs": [],
   "source": []
  },
  {
   "cell_type": "code",
   "execution_count": null,
   "id": "27a4e19c-777b-45d3-9069-2ed00bd05a70",
   "metadata": {},
   "outputs": [],
   "source": []
  },
  {
   "cell_type": "code",
   "execution_count": null,
   "id": "f3072d1f-3877-4b9b-87b8-40c261b9865a",
   "metadata": {},
   "outputs": [],
   "source": []
  }
 ],
 "metadata": {
  "kernelspec": {
   "display_name": "Python 3 (ipykernel)",
   "language": "python",
   "name": "python3"
  },
  "language_info": {
   "codemirror_mode": {
    "name": "ipython",
    "version": 3
   },
   "file_extension": ".py",
   "mimetype": "text/x-python",
   "name": "python",
   "nbconvert_exporter": "python",
   "pygments_lexer": "ipython3",
   "version": "3.11.5"
  }
 },
 "nbformat": 4,
 "nbformat_minor": 5
}
